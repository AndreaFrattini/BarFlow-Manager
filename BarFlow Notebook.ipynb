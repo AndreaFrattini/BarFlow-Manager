{
 "cells": [
  {
   "cell_type": "code",
   "execution_count": null,
   "id": "3af851c3",
   "metadata": {},
   "outputs": [],
   "source": [
    "# Env\n",
    "import pandas as pd"
   ]
  },
  {
   "cell_type": "code",
   "execution_count": 18,
   "id": "07528549",
   "metadata": {},
   "outputs": [
    {
     "name": "stdout",
     "output_type": "stream",
     "text": [
      "Fornitori dataframe: (84, 4)\n",
      "Pos dataframe: (1732, 5)\n",
      "\n"
     ]
    }
   ],
   "source": [
    "# Datasets import\n",
    "fornitori = pd.read_excel(r\"C:\\Users\\andrea.frattini\\Desktop\\Progetti\\Presentazioni interne\\BarFlow-Manager\\sample_data\\FattureNoteDiCredito - Andea Frattini.xlsx\", header=3)\n",
    "pos = pd.read_excel(r\"C:\\Users\\andrea.frattini\\Desktop\\Progetti\\Presentazioni interne\\BarFlow-Manager\\sample_data\\Transazione pos - Andrea Frattini.xlsx\")\n",
    "\n",
    "fornitori = fornitori.dropna(subset=['Totale'])\n",
    "pos = pos.dropna(subset=['Importo netto'])\n",
    "\n",
    "fornitori = fornitori[['Data', 'Numero Rif.', 'Fornitore', 'Totale']]\n",
    "pos = pos[['Data Transazione', 'Numero operazione', 'Importo lordo', 'Commissioni', 'Importo netto']]\n",
    "\n",
    "print(\"\"\"Fornitori dataframe: {}\n",
    "Pos dataframe: {}\n",
    "\"\"\".format(fornitori.shape, pos.shape))"
   ]
  },
  {
   "cell_type": "code",
   "execution_count": 19,
   "id": "6a2a08e4",
   "metadata": {},
   "outputs": [
    {
     "data": {
      "text/html": [
       "<div>\n",
       "<style scoped>\n",
       "    .dataframe tbody tr th:only-of-type {\n",
       "        vertical-align: middle;\n",
       "    }\n",
       "\n",
       "    .dataframe tbody tr th {\n",
       "        vertical-align: top;\n",
       "    }\n",
       "\n",
       "    .dataframe thead th {\n",
       "        text-align: right;\n",
       "    }\n",
       "</style>\n",
       "<table border=\"1\" class=\"dataframe\">\n",
       "  <thead>\n",
       "    <tr style=\"text-align: right;\">\n",
       "      <th></th>\n",
       "      <th>Data</th>\n",
       "      <th>Numero Rif.</th>\n",
       "      <th>Fornitore</th>\n",
       "      <th>Totale</th>\n",
       "    </tr>\n",
       "  </thead>\n",
       "  <tbody>\n",
       "    <tr>\n",
       "      <th>0</th>\n",
       "      <td>2025-10-07</td>\n",
       "      <td>9750937558</td>\n",
       "      <td>Action Italy S.R.L</td>\n",
       "      <td>58.80</td>\n",
       "    </tr>\n",
       "    <tr>\n",
       "      <th>1</th>\n",
       "      <td>2025-10-06</td>\n",
       "      <td>402</td>\n",
       "      <td>Giovanni Santi</td>\n",
       "      <td>238.82</td>\n",
       "    </tr>\n",
       "    <tr>\n",
       "      <th>2</th>\n",
       "      <td>2025-10-06</td>\n",
       "      <td>1565/FTD</td>\n",
       "      <td>MOKALBA S.R.L.</td>\n",
       "      <td>289.96</td>\n",
       "    </tr>\n",
       "    <tr>\n",
       "      <th>3</th>\n",
       "      <td>2025-10-04</td>\n",
       "      <td>014-038120</td>\n",
       "      <td>Leroy Merlin Italia srl</td>\n",
       "      <td>20.90</td>\n",
       "    </tr>\n",
       "    <tr>\n",
       "      <th>4</th>\n",
       "      <td>2025-10-03</td>\n",
       "      <td>D25.207079</td>\n",
       "      <td>Forno d'Asolo S.p.A.</td>\n",
       "      <td>1282.16</td>\n",
       "    </tr>\n",
       "  </tbody>\n",
       "</table>\n",
       "</div>"
      ],
      "text/plain": [
       "        Data Numero Rif.                Fornitore   Totale\n",
       "0 2025-10-07  9750937558       Action Italy S.R.L    58.80\n",
       "1 2025-10-06         402           Giovanni Santi   238.82\n",
       "2 2025-10-06    1565/FTD           MOKALBA S.R.L.   289.96\n",
       "3 2025-10-04  014-038120  Leroy Merlin Italia srl    20.90\n",
       "4 2025-10-03  D25.207079     Forno d'Asolo S.p.A.  1282.16"
      ]
     },
     "execution_count": 19,
     "metadata": {},
     "output_type": "execute_result"
    }
   ],
   "source": [
    "fornitori.head()"
   ]
  },
  {
   "cell_type": "code",
   "execution_count": 20,
   "id": "6ab697b4",
   "metadata": {},
   "outputs": [
    {
     "data": {
      "text/html": [
       "<div>\n",
       "<style scoped>\n",
       "    .dataframe tbody tr th:only-of-type {\n",
       "        vertical-align: middle;\n",
       "    }\n",
       "\n",
       "    .dataframe tbody tr th {\n",
       "        vertical-align: top;\n",
       "    }\n",
       "\n",
       "    .dataframe thead th {\n",
       "        text-align: right;\n",
       "    }\n",
       "</style>\n",
       "<table border=\"1\" class=\"dataframe\">\n",
       "  <thead>\n",
       "    <tr style=\"text-align: right;\">\n",
       "      <th></th>\n",
       "      <th>Data Transazione</th>\n",
       "      <th>Numero operazione</th>\n",
       "      <th>Importo lordo</th>\n",
       "      <th>Commissioni</th>\n",
       "      <th>Importo netto</th>\n",
       "    </tr>\n",
       "  </thead>\n",
       "  <tbody>\n",
       "    <tr>\n",
       "      <th>0</th>\n",
       "      <td>2025-09-30 23:28:00.0</td>\n",
       "      <td>4628779192</td>\n",
       "      <td>11.0</td>\n",
       "      <td>0.04</td>\n",
       "      <td>10.96</td>\n",
       "    </tr>\n",
       "    <tr>\n",
       "      <th>1</th>\n",
       "      <td>2025-09-30 23:20:10.0</td>\n",
       "      <td>4628128278</td>\n",
       "      <td>10.0</td>\n",
       "      <td>0.03</td>\n",
       "      <td>9.97</td>\n",
       "    </tr>\n",
       "    <tr>\n",
       "      <th>2</th>\n",
       "      <td>2025-09-30 23:02:08.0</td>\n",
       "      <td>4628062748</td>\n",
       "      <td>20.0</td>\n",
       "      <td>0.06</td>\n",
       "      <td>19.94</td>\n",
       "    </tr>\n",
       "    <tr>\n",
       "      <th>3</th>\n",
       "      <td>2025-09-30 22:42:30.0</td>\n",
       "      <td>4629514049</td>\n",
       "      <td>19.2</td>\n",
       "      <td>0.06</td>\n",
       "      <td>19.14</td>\n",
       "    </tr>\n",
       "    <tr>\n",
       "      <th>4</th>\n",
       "      <td>2025-09-30 22:38:22.0</td>\n",
       "      <td>4629705502</td>\n",
       "      <td>3.0</td>\n",
       "      <td>0.01</td>\n",
       "      <td>2.99</td>\n",
       "    </tr>\n",
       "  </tbody>\n",
       "</table>\n",
       "</div>"
      ],
      "text/plain": [
       "        Data Transazione  Numero operazione  Importo lordo  Commissioni  \\\n",
       "0  2025-09-30 23:28:00.0         4628779192           11.0         0.04   \n",
       "1  2025-09-30 23:20:10.0         4628128278           10.0         0.03   \n",
       "2  2025-09-30 23:02:08.0         4628062748           20.0         0.06   \n",
       "3  2025-09-30 22:42:30.0         4629514049           19.2         0.06   \n",
       "4  2025-09-30 22:38:22.0         4629705502            3.0         0.01   \n",
       "\n",
       "   Importo netto  \n",
       "0          10.96  \n",
       "1           9.97  \n",
       "2          19.94  \n",
       "3          19.14  \n",
       "4           2.99  "
      ]
     },
     "execution_count": 20,
     "metadata": {},
     "output_type": "execute_result"
    }
   ],
   "source": [
    "pos.head()"
   ]
  }
 ],
 "metadata": {
  "kernelspec": {
   "display_name": ".venv",
   "language": "python",
   "name": "python3"
  },
  "language_info": {
   "codemirror_mode": {
    "name": "ipython",
    "version": 3
   },
   "file_extension": ".py",
   "mimetype": "text/x-python",
   "name": "python",
   "nbconvert_exporter": "python",
   "pygments_lexer": "ipython3",
   "version": "3.13.7"
  }
 },
 "nbformat": 4,
 "nbformat_minor": 5
}
